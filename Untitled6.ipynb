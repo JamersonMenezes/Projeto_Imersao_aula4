{
  "nbformat": 4,
  "nbformat_minor": 0,
  "metadata": {
    "colab": {
      "provenance": [],
      "authorship_tag": "ABX9TyPsuANFjktPE8G6egcZNpiA",
      "include_colab_link": true
    },
    "kernelspec": {
      "name": "python3",
      "display_name": "Python 3"
    },
    "language_info": {
      "name": "python"
    }
  },
  "cells": [
    {
      "cell_type": "markdown",
      "metadata": {
        "id": "view-in-github",
        "colab_type": "text"
      },
      "source": [
        "<a href=\"https://colab.research.google.com/github/JamersonMenezes/Projeto_Imersao_aula4/blob/main/Untitled6.ipynb\" target=\"_parent\"><img src=\"https://colab.research.google.com/assets/colab-badge.svg\" alt=\"Open In Colab\"/></a>"
      ]
    },
    {
      "cell_type": "code",
      "execution_count": 2,
      "metadata": {
        "id": "sBIIM46S6eI0"
      },
      "outputs": [],
      "source": [
        "pip install -q -U google.generativeai"
      ]
    },
    {
      "cell_type": "code",
      "source": [
        "import google.generativeai as genai\n",
        "from google.colab import userdata\n",
        "api_key = userdata.get('SECRET_KEY')\n",
        "\n",
        "genai.configure(api_key=api_key)\n"
      ],
      "metadata": {
        "id": "ihhpFDAB8C-Q"
      },
      "execution_count": 3,
      "outputs": []
    },
    {
      "cell_type": "code",
      "source": [
        "model = genai.GenerativeModel('gemini-pro')"
      ],
      "metadata": {
        "id": "dXpf9tzo9EBq"
      },
      "execution_count": 4,
      "outputs": []
    },
    {
      "cell_type": "markdown",
      "source": [
        "# Nova seção"
      ],
      "metadata": {
        "id": "gS3kXZJC6_ae"
      }
    },
    {
      "cell_type": "code",
      "source": [
        "response = model.generate_content('Escreva uma história bonita sobre o Club de Regatas Vasco da Gama.')\n",
        "print(response.text)"
      ],
      "metadata": {
        "colab": {
          "base_uri": "https://localhost:8080/",
          "height": 367
        },
        "id": "yKjAuwqq9UWg",
        "outputId": "fa26e615-e5da-40c1-a804-5d5b3c45b81a"
      },
      "execution_count": 7,
      "outputs": [
        {
          "output_type": "stream",
          "name": "stdout",
          "text": [
            "Nas margens da Baía de Guanabara, onde o sol dourado beijava as águas cintilantes, nasceu o Club de Regatas Vasco da Gama. Fundado em 1898 por um grupo de remadores apaixonados, o clube logo ganhou destaque por seus feitos aquáticos.\n",
            "\n",
            "As galés vascaínas cortavam as ondas com graça e velocidade, conquistando inúmeras vitórias em regatas lendárias. O nome Vasco da Gama, em homenagem ao navegador português, tornou-se sinônimo de determinação e excelência esportiva.\n",
            "\n",
            "À medida que o clube crescia, diversificando suas atividades, o futebol assumiu um papel de destaque. Nos estádios lotados do Rio de Janeiro, os jogadores vascaínos exibiam um estilo de jogo vibrante e habilidoso.\n",
            "\n",
            "Entre os grandes nomes que vestiram a camisa cruz-maltina, brilharam ídolos como Roberto Dinamite, Edmundo e Romário. Eles lideraram o Vasco da Gama a conquistas históricas, incluindo cinco campeonatos brasileiros e várias Copas Libertadores.\n",
            "\n",
            "Mas o Vasco da Gama era mais do que apenas um clube de futebol. Ele se tornou uma parte integrante da vida social e cultural do Rio de Janeiro. O estádio São Januário, conhecido como \"Caldeirão\", testemunhou momentos de alegria e tristeza, união e paixão.\n",
            "\n",
            "As arquibancadas cantavam hinos como \"Camisa Negra\" e \"Salve o Vasco\", criando uma sinfonia que ecoava pela cidade. Os torcedores criaram uma comunidade unida, onde as diferenças de classe e origem eram deixadas de lado pelo amor comum ao clube.\n",
            "\n",
            "Além do esporte, o Vasco da Gama desempenhou um papel ativo nas causas sociais. O clube investiu em projetos de inclusão social, fornecendo educação e oportunidades para jovens desfavorecidos.\n",
            "\n",
            "Centenas de milhares de crianças e adolescentes passaram pelas escolinhas de futebol do Vasco da Gama, sonhando em seguir os passos de seus ídolos. Ao longo dos anos, o clube produziu não apenas grandes atletas, mas também cidadãos responsáveis.\n",
            "\n",
            "A história do Club de Regatas Vasco da Gama é uma ode à paixão, ao esforço e ao espírito de comunidade. É um legado de vitórias e derrotas, de glórias e desafios, que continua a inspirar gerações de torcedores.\n",
            "\n",
            "Nas ondas da Baía de Guanabara ou no gramado do São Januário, o Vasco da Gama é mais do que um clube. É uma instituição profundamente amada e respeitada, um símbolo da alma do Rio de Janeiro.\n"
          ]
        }
      ]
    },
    {
      "cell_type": "code",
      "source": [
        "for m in genai.list_models():\n",
        "  if 'generateContent' in m.supported_generation_methods:\n",
        "    print(m.name)"
      ],
      "metadata": {
        "colab": {
          "base_uri": "https://localhost:8080/",
          "height": 139
        },
        "id": "dm0SNQJr_JQM",
        "outputId": "a7c966a3-84b8-490b-8612-dc4376abb747"
      },
      "execution_count": 8,
      "outputs": [
        {
          "output_type": "stream",
          "name": "stdout",
          "text": [
            "models/gemini-1.0-pro\n",
            "models/gemini-1.0-pro-001\n",
            "models/gemini-1.0-pro-latest\n",
            "models/gemini-1.0-pro-vision-latest\n",
            "models/gemini-1.5-pro-latest\n",
            "models/gemini-pro\n",
            "models/gemini-pro-vision\n"
          ]
        }
      ]
    },
    {
      "cell_type": "code",
      "source": [
        "generation_config = {\n",
        "    \"candidate_count\": 1,\n",
        "    \"temperature\": 0.5,\n",
        "}\n",
        ""
      ],
      "metadata": {
        "id": "R2Kdxs4I_P7J"
      },
      "execution_count": 13,
      "outputs": []
    },
    {
      "cell_type": "code",
      "source": [
        "safety_settings = {\n",
        "    \"HARASSMENT\":\"BLOCK_NONE\",\n",
        "    \"HATE\":\"BLOCK_NONE\",\n",
        "    \"SEXUAL\":\"BLOCK_NONE\",\n",
        "    \"DANGEROUS\":\"BLOCK_NONE\",\n",
        "}"
      ],
      "metadata": {
        "id": "H86dcicHCitR"
      },
      "execution_count": 14,
      "outputs": []
    },
    {
      "cell_type": "code",
      "source": [
        ""
      ],
      "metadata": {
        "id": "BCM-EVznDVMP"
      },
      "execution_count": null,
      "outputs": []
    }
  ]
}